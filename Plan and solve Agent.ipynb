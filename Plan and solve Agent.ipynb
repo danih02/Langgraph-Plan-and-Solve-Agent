{
 "cells": [
  {
   "cell_type": "markdown",
   "id": "1b9faeec",
   "metadata": {},
   "source": [
    "# Plan and Solve Agent"
   ]
  },
  {
   "cell_type": "markdown",
   "id": "5e12dcad",
   "metadata": {},
   "source": [
    "We define a plan and solve generative AI agent via langgraph for problem solving. The idea is that an initial LLM generates a plan to solve the user's query. This plan is passed to an agent, which, equipped with tools, tries to solve each step one by one. Once the last step has been executed, an empty plan is returned which triggers the end step in the graph. The setup is a slightly tweaked version of langgraph's plan and solve tutorial https://langchain-ai.github.io/langgraph/tutorials/plan-and-execute/plan-and-execute/ "
   ]
  },
  {
   "cell_type": "code",
   "execution_count": null,
   "id": "ff6a3036",
   "metadata": {},
   "outputs": [],
   "source": [
    "import os\n",
    "import google.generativeai as genai\n",
    "from langchain_google_genai import ChatGoogleGenerativeAI\n",
    "\n",
    "api_key = os.environ.get(\"GOOGLE_API_KEY\")\n",
    "api_key_tavily = os.environ.get(\"TAVILY_API_KEY\")\n",
    "genai.configure(api_key=api_key)\n",
    "\n",
    "os.environ[\"GOOGLE_API_KEY\"]  = api_key\n",
    "llm = ChatGoogleGenerativeAI(model=\"gemini-2.0-flash\", temperature = 0.5)"
   ]
  },
  {
   "cell_type": "markdown",
   "id": "01ccb5e1",
   "metadata": {},
   "source": [
    "We will only use a single search tool as our tools. Tavily or DuckDuckGo both work, though Tavily's result in general being more on point."
   ]
  },
  {
   "cell_type": "code",
   "execution_count": 3,
   "id": "4a174240",
   "metadata": {},
   "outputs": [],
   "source": [
    "from langchain.tools.tavily_search import TavilySearchResults\n",
    "from langgraph.prebuilt import create_react_agent\n",
    "\n",
    "#from langchain.tools import DuckDuckGoSearchResults\n",
    "#search = DuckDuckGoSearchResults()\n",
    "\n",
    "search = TavilySearchResults()\n",
    "tools = [search]\n",
    "agent_executor = create_react_agent(llm, tools, prompt = \"You are a helpful assistant. You MUST be 100 percent sure about your answer, otherwise use your tools.\")"
   ]
  },
  {
   "cell_type": "code",
   "execution_count": 4,
   "id": "ccb24356",
   "metadata": {},
   "outputs": [
    {
     "data": {
      "text/plain": [
       "{'messages': [HumanMessage(content='Who is the current US president?', additional_kwargs={}, response_metadata={}, id='51ded47e-9081-4afa-bef6-be5232701900'),\n",
       "  AIMessage(content='', additional_kwargs={'function_call': {'name': 'tavily_search_results_json', 'arguments': '{\"query\": \"current US president\"}'}}, response_metadata={'prompt_feedback': {'block_reason': 0, 'safety_ratings': []}, 'finish_reason': 'STOP', 'safety_ratings': []}, id='run--d4c1938e-8cc1-4280-9528-8fdeeb3e9af8-0', tool_calls=[{'name': 'tavily_search_results_json', 'args': {'query': 'current US president'}, 'id': '3102e68d-3ad3-418f-8806-43f89933d214', 'type': 'tool_call'}], usage_metadata={'input_tokens': 80, 'output_tokens': 12, 'total_tokens': 92, 'input_token_details': {'cache_read': 0}}),\n",
       "  ToolMessage(content='[{\"title\": \"President of the United States - Ballotpedia\", \"url\": \"https://ballotpedia.org/President_of_the_United_States\", \"content\": \"The **President of the United States** (POTUS) is the head of the United States government. [Article II of the U.S. Constitution](/Article_II,_United_States_Constitution \\\\\"Article II, United States Constitution\\\\\") laid out the requirements and roles of the president.[[1]](#cite_note-1) The current President of the United States is [Donald Trump](https://ballotpedia.org/Donald_Trump) (R). Trump assumed office in 2025.\\\\n\\\\n## Election requirements [...] | [v](/Template:Executive_branch \\\\\"Template:Executive branch\\\\\")\\xa0•\\xa0[e](https://ballotpedia.org/wiki/index.php?title=Template:Executive_branch&action=edit) [U.S. Executive Branch](/Executive_Branch \\\\\"Executive Branch\\\\\") | | |\\\\n| --- | --- | --- |\\\\n|  |\\\\n| Elected offices | President [Donald Trump](/Donald_Trump \\\\\"Donald Trump\\\\\") • Vice President [J.D. Vance](/J.D._Vance \\\\\"J.D. Vance\\\\\")   --- | [Executive-Branch-Logo.png](/Executive_Branch \\\\\"Executive Branch\\\\\") |\\\\n|  | [...] [Gerald Ford](/Gerald_Ford \\\\\"Gerald Ford\\\\\")\\xa0• [Jimmy Carter](/Jimmy_Carter \\\\\"Jimmy Carter\\\\\")\\xa0• [Ronald Reagan](/Ronald_Reagan \\\\\"Ronald Reagan\\\\\")\\xa0• [George H.W. Bush](/George_H.W._Bush \\\\\"George H.W. Bush\\\\\")\\xa0• [Bill Clinton](/Bill_Clinton \\\\\"Bill Clinton\\\\\")\\xa0• [George W. Bush](/George_W._Bush \\\\\"George W. Bush\\\\\")\\xa0• [Barack Obama](/Barack_Obama \\\\\"Barack Obama\\\\\")\\xa0• [Donald Trump](/Donald_Trump \\\\\"Donald Trump\\\\\")\\xa0• [Joe Biden](/Joe_Biden \\\\\"Joe Biden\\\\\") | [Ballotpedia Election Coverage Badge.png](/Portal:Elections\", \"score\": 0.8458536}, {\"title\": \"Presidents, vice presidents, and first ladies | USAGov\", \"url\": \"https://www.usa.gov/presidents\", \"content\": \"Learn about the duties of president, vice president, and first lady of the United States. Find out how to contact and learn more about current and past leaders.\\\\n\\\\n## President of the United States\\\\n\\\\nThe president of the United States is the:\\\\n\\\\n### Current president\\\\n\\\\n[The 47th and current president of the United States is Donald John Trump.](https://www.whitehouse.gov/administration/donald-j-trump/)\\xa0He was sworn into office on January 20, 2025.\\\\n\\\\n### Former U.S. presidents [...] [The 50th and current vice president of the United States is James David (JD) Vance.](https://www.whitehouse.gov/administration/jd-vance/) He was sworn in on January 20, 2025\\\\n\\\\n### Former vice presidents\\\\n\\\\n[Read about past presidents and vice presidents.](https://history.house.gov/Institution/Presidents-Coinciding/Presidents-Coinciding/)\\\\n\\\\n## First lady\", \"score\": 0.82117355}, {\"title\": \"President of the United States - Wikipedia\", \"url\": \"https://en.wikipedia.org/wiki/President_of_the_United_States\", \"content\": \"In all, 45 individuals have served 47 presidencies spanning 60 four-year terms. Donald Trump is the 47th and current president since January 20, 2025.\", \"score\": 0.79901963}, {\"title\": \"List of USA presidents from George Washington to Donald Trump\", \"url\": \"https://timesofindia.indiatimes.com/world/us/list-of-presidents-of-us/featureshow/115011630.cms\", \"content\": \"|  |  |  |  |  |  |  |\\\\n| --- | --- | --- | --- | --- | --- | --- |\\\\n| **No.** | **US President Name** | **Term start** | **Term end** | **Party** | **Election(s)** | **Vice President(s)** |\\\\n| 47th | Donald Trump | January 20,2025 | Present | Republican | 2024 | Kamala Harris |\\\\n| 46th | Joe Biden | January 20, 2021 | Incumbent | Democratic | 2020 | Kamala Harris |\\\\n| 45th | Donald Trump | January 20, 2017 | January 20, 2021 | Republican | 2016 | Mike Pence | [...] | 44th | Barack Obama | January 20, 2009 | January 20, 2017 | Democratic | 2008, 2012 | Joe Biden |\\\\n| 43rd | George W. Bush | January 20, 2001 | January 20, 2009 | Republican | 2000, 2004 | Dick Cheney |\\\\n| 42nd | Bill Clinton | January 20, 1993 | January 20, 2001 | Democratic | 1992, 1996 | Al Gore |\\\\n| 41st | George H. W. Bush | January 20, 1989 | January 20, 1993 | Republican | 1988 | Dan Quayle | [...] | 40th | Ronald Reagan | January 20, 1981 | January 20, 1989 | Republican | 1980, 1984 | George H. W. Bush |\\\\n| 39th | Jimmy Carter | January 20, 1977 | January 20, 1981 | Democratic | 1976 | Walter Mondale |\\\\n| 38th | Gerald Ford | August 9, 1974 | January 20, 1977 | Republican | - | Nelson Rockefeller |\\\\n| 37th | Richard Nixon | January 20, 1969 | August 9, 1974 | Republican | 1968, 1972 | Spiro Agnew, Gerald Ford |\", \"score\": 0.796562}, {\"title\": \"President of the United States\", \"url\": \"https://usun.usmission.gov/our-leaders/the-president-of-the-united-states/\", \"content\": \"![](https://edit.usembassy.gov/wp-content/uploads/Donald-J-Trump-600x600-1.png)\\\\n\\\\n### President Donald J. Trump\\\\n\\\\nDonald J. Trump serves as the 47th President of the United States. He also served as the 45th.\\\\n\\\\n[Read the President’s full biography.](https://www.whitehouse.gov/administration/donald-j-trump/)\\\\n\\\\n### Visit The White House Website [...] ![United States of America, Department of State](https://usun.usmission.gov/wp-content/themes/cms3/dist/images/dos-logo-light.png \\\\\"United States of America, Department of State\\\\\")\\\\n\\\\n# [United States Mission to the United Nations](https://usun.usmission.gov/ \\\\\"United States Mission to the United Nations\\\\\")\\\\n\\\\n### Social / Search – EN\\\\n\\\\n# President of the United States\\\\n\\\\n![](https://edit.usembassy.gov/wp-content/uploads/Donald-J-Trump-600x600-1.png)\", \"score\": 0.64344186}]', name='tavily_search_results_json', id='d54e8d38-26fa-451f-a397-187c4ee83174', tool_call_id='3102e68d-3ad3-418f-8806-43f89933d214', artifact={'query': 'current US president', 'follow_up_questions': None, 'answer': None, 'images': [], 'results': [{'url': 'https://ballotpedia.org/President_of_the_United_States', 'title': 'President of the United States - Ballotpedia', 'content': 'The **President of the United States** (POTUS) is the head of the United States government. [Article II of the U.S. Constitution](/Article_II,_United_States_Constitution \"Article II, United States Constitution\") laid out the requirements and roles of the president.[[1]](#cite_note-1) The current President of the United States is [Donald Trump](https://ballotpedia.org/Donald_Trump) (R). Trump assumed office in 2025.\\n\\n## Election requirements [...] | [v](/Template:Executive_branch \"Template:Executive branch\")\\xa0•\\xa0[e](https://ballotpedia.org/wiki/index.php?title=Template:Executive_branch&action=edit) [U.S. Executive Branch](/Executive_Branch \"Executive Branch\") | | |\\n| --- | --- | --- |\\n|  |\\n| Elected offices | President [Donald Trump](/Donald_Trump \"Donald Trump\") • Vice President [J.D. Vance](/J.D._Vance \"J.D. Vance\")   --- | [Executive-Branch-Logo.png](/Executive_Branch \"Executive Branch\") |\\n|  | [...] [Gerald Ford](/Gerald_Ford \"Gerald Ford\")\\xa0• [Jimmy Carter](/Jimmy_Carter \"Jimmy Carter\")\\xa0• [Ronald Reagan](/Ronald_Reagan \"Ronald Reagan\")\\xa0• [George H.W. Bush](/George_H.W._Bush \"George H.W. Bush\")\\xa0• [Bill Clinton](/Bill_Clinton \"Bill Clinton\")\\xa0• [George W. Bush](/George_W._Bush \"George W. Bush\")\\xa0• [Barack Obama](/Barack_Obama \"Barack Obama\")\\xa0• [Donald Trump](/Donald_Trump \"Donald Trump\")\\xa0• [Joe Biden](/Joe_Biden \"Joe Biden\") | [Ballotpedia Election Coverage Badge.png](/Portal:Elections', 'score': 0.8458536, 'raw_content': None}, {'url': 'https://www.usa.gov/presidents', 'title': 'Presidents, vice presidents, and first ladies | USAGov', 'content': 'Learn about the duties of president, vice president, and first lady of the United States. Find out how to contact and learn more about current and past leaders.\\n\\n## President of the United States\\n\\nThe president of the United States is the:\\n\\n### Current president\\n\\n[The 47th and current president of the United States is Donald John Trump.](https://www.whitehouse.gov/administration/donald-j-trump/)\\xa0He was sworn into office on January 20, 2025.\\n\\n### Former U.S. presidents [...] [The 50th and current vice president of the United States is James David (JD) Vance.](https://www.whitehouse.gov/administration/jd-vance/) He was sworn in on January 20, 2025\\n\\n### Former vice presidents\\n\\n[Read about past presidents and vice presidents.](https://history.house.gov/Institution/Presidents-Coinciding/Presidents-Coinciding/)\\n\\n## First lady', 'score': 0.82117355, 'raw_content': None}, {'url': 'https://en.wikipedia.org/wiki/President_of_the_United_States', 'title': 'President of the United States - Wikipedia', 'content': 'In all, 45 individuals have served 47 presidencies spanning 60 four-year terms. Donald Trump is the 47th and current president since January 20, 2025.', 'score': 0.79901963, 'raw_content': None}, {'url': 'https://timesofindia.indiatimes.com/world/us/list-of-presidents-of-us/featureshow/115011630.cms', 'title': 'List of USA presidents from George Washington to Donald Trump', 'content': '|  |  |  |  |  |  |  |\\n| --- | --- | --- | --- | --- | --- | --- |\\n| **No.** | **US President Name** | **Term start** | **Term end** | **Party** | **Election(s)** | **Vice President(s)** |\\n| 47th | Donald Trump | January 20,2025 | Present | Republican | 2024 | Kamala Harris |\\n| 46th | Joe Biden | January 20, 2021 | Incumbent | Democratic | 2020 | Kamala Harris |\\n| 45th | Donald Trump | January 20, 2017 | January 20, 2021 | Republican | 2016 | Mike Pence | [...] | 44th | Barack Obama | January 20, 2009 | January 20, 2017 | Democratic | 2008, 2012 | Joe Biden |\\n| 43rd | George W. Bush | January 20, 2001 | January 20, 2009 | Republican | 2000, 2004 | Dick Cheney |\\n| 42nd | Bill Clinton | January 20, 1993 | January 20, 2001 | Democratic | 1992, 1996 | Al Gore |\\n| 41st | George H. W. Bush | January 20, 1989 | January 20, 1993 | Republican | 1988 | Dan Quayle | [...] | 40th | Ronald Reagan | January 20, 1981 | January 20, 1989 | Republican | 1980, 1984 | George H. W. Bush |\\n| 39th | Jimmy Carter | January 20, 1977 | January 20, 1981 | Democratic | 1976 | Walter Mondale |\\n| 38th | Gerald Ford | August 9, 1974 | January 20, 1977 | Republican | - | Nelson Rockefeller |\\n| 37th | Richard Nixon | January 20, 1969 | August 9, 1974 | Republican | 1968, 1972 | Spiro Agnew, Gerald Ford |', 'score': 0.796562, 'raw_content': None}, {'url': 'https://usun.usmission.gov/our-leaders/the-president-of-the-united-states/', 'title': 'President of the United States', 'content': '![](https://edit.usembassy.gov/wp-content/uploads/Donald-J-Trump-600x600-1.png)\\n\\n### President Donald J. Trump\\n\\nDonald J. Trump serves as the 47th President of the United States. He also served as the 45th.\\n\\n[Read the President’s full biography.](https://www.whitehouse.gov/administration/donald-j-trump/)\\n\\n### Visit The White House Website [...] ![United States of America, Department of State](https://usun.usmission.gov/wp-content/themes/cms3/dist/images/dos-logo-light.png \"United States of America, Department of State\")\\n\\n# [United States Mission to the United Nations](https://usun.usmission.gov/ \"United States Mission to the United Nations\")\\n\\n### Social / Search – EN\\n\\n# President of the United States\\n\\n![](https://edit.usembassy.gov/wp-content/uploads/Donald-J-Trump-600x600-1.png)', 'score': 0.64344186, 'raw_content': None}], 'response_time': 3.54}),\n",
       "  AIMessage(content='Based on the search results, Donald Trump is currently the 47th President of the United States, having been sworn into office on January 20, 2025. However, some results also mention Joe Biden as a past president. To confirm the most up-to-date information, I will run another search.', additional_kwargs={'function_call': {'name': 'tavily_search_results_json', 'arguments': '{\"query\": \"current US president 2024\"}'}}, response_metadata={'prompt_feedback': {'block_reason': 0, 'safety_ratings': []}, 'finish_reason': 'STOP', 'safety_ratings': []}, id='run--23b0f19f-6966-443f-977d-5427f5b59d24-0', tool_calls=[{'name': 'tavily_search_results_json', 'args': {'query': 'current US president 2024'}, 'id': '6162c993-673d-4b7b-a48f-ad07e5e5d0d7', 'type': 'tool_call'}], usage_metadata={'input_tokens': 1756, 'output_tokens': 86, 'total_tokens': 1842, 'input_token_details': {'cache_read': 0}}),\n",
       "  ToolMessage(content='[{\"title\": \"2024 | The American Presidency Project\", \"url\": \"https://www.presidency.ucsb.edu/statistics/elections/2024\", \"content\": \"|  |  |  |  |  |  |  |  |  |\\\\n| --- | --- | --- | --- | --- | --- | --- | --- | --- |\\\\n| **Party** | | **Nominees** | | **Electoral Vote** | | **Popular Vote** | | |\\\\n| **Presidential** | **Vice Presidential** |\\\\n| *Democratic* |  | Kamala Harris | Tim Walz | 226 | 42% | 75,019,230 | 48.34% |\\\\n| *Republican* |  | Donald J. Trump | J.D. Vance | 312 | 58% | 77,303,568 | 49.81% |\\\\n| *Various* |  | Others | | 0 | 0 % | 2,878,359 | 1.85% |\\\\n| *Last update: 12/31/2024* | | | | | | | | | [...] | |  |  |  |  |  |  |  |  |  | | --- | --- | --- | --- | --- | --- | --- | --- | --- | | **Party** | | **Nominees** | | **Electoral Vote** | | **Popular Vote** | | | | **Presidential** | **Vice Presidential** | | *Democratic* |  | Kamala Harris | Tim Walz | 226 | 42% | 75,019,230 | 48.34% | | *Republican* |  | Donald J. Trump | J.D. Vance | 312 | 58% | 77,303,568 | 49.81% | | *Various* |  | Others | | 0 | 0 % | 2,878,359 | 1.85% | | *Last update: 12/31/2024* | | | | | | | | | |  | | | | | | | | [...] ![Trump-Vance 2024](https://www.presidency.ucsb.edu/sites/default/files/books/presidential-documents-archive-collections-presidential-campaigns-debates-and-endorsements/2024-presidential-election-documents/trump_vance_2024.jpg)\\\\n![Kamala Harris](https://www.presidency.ucsb.edu/sites/default/files/election-maps/2024/137a.jpg)\\\\n![Donald Trump](https://www.presidency.ucsb.edu/sites/default/files/people/donald-trump.jpg)\\\\n\\\\n*Last update: 12/31/2024*\", \"score\": 0.854509}, {\"title\": \"2024 United States presidential election - Wikipedia\", \"url\": \"https://en.wikipedia.org/wiki/2024_United_States_presidential_election\", \"content\": \"Presidential elections were held in the United States on November 5, 2024. The Republican Party\\'s ticket—Donald Trump, who was the 45th president of the\", \"score\": 0.78413767}, {\"title\": \"Election 2024: Campaign news, presidential polls and results - CNN\", \"url\": \"https://www.cnn.com/election/2024\", \"content\": \"![US Vice President Democratic presidential candidate Kamala Harris speaks at Howard University in Washington, DC, on November 6, 2024. Donald Trump won a sweeping victory on November 6, 2024 in the US presidential election, defeating Kamala Harris to complete an astonishing political comeback that sent shock waves around the world. (Photo by SAUL LOEB / AFP) (Photo by SAUL LOEB/AFP via Getty [...] ![LANCASTER, PENNSYLVANIA - OCTOBER 20: Republican presidential nominee, former U.S. President Donald Trump, arrives on stage during a town hall campaign event at the Lancaster County Convention Center on October 20, 2024 in Lancaster, Pennsylvania. Trump is campaigning the entire day in the state of Pennsylvania. Trump and Democratic presidential nominee Vice President Kamala Harris continue to campaign in battleground swing states ahead of the November 5 election.  (Photo by Win McNamee/Getty [...] ![GRAND RAPIDS, MICHIGAN - NOVEMBER 05: Republican presidential nominee, former U.S. President Donald Trump, takes the stage for his last rally of the election year at Van Andel Arena on November 05, 2024 in Grand Rapids, Michigan. Trump campaigned for re-election in the battleground states of North Carolina and Pennsylvania before arriving for his last rally minutes after midnight in Michigan. (Photo by Chip Somodevilla/Getty\", \"score\": 0.77913743}, {\"title\": \"Presidential candidates, 2024 - Ballotpedia\", \"url\": \"https://ballotpedia.org/Presidential_candidates,_2024\", \"content\": \"Former President Donald Trump (R) won the November 5, 2024, presidential election. Twenty-four candidates appeared on presidential election ballots across the\", \"score\": 0.7686816}, {\"title\": \"US Presidential Election Results 2024 - BBC News\", \"url\": \"https://www.bbc.com/news/election/2024/us/results\", \"content\": \"This map of the US states was filled in as presidential results were called. It shows huge swathes of the country coloured red for Republicans including much of the south, mid and north west regions. Kamala Harris picked up states in the north east, the west coast, as well as Colorado, New Mexico, Illinois and Minnesota, all coloured in blue. Donald Trump passed the critical threshold of 270 electoral college votes with a projected win in the state of Wisconsin making him the next US president. [...] ![Kamala Harris, Democratic Candidate](https://static.files.bbci.co.uk/elections/images/us2024/candidates/kamala-harris-mobile.png)\\\\n![Donald Trump, Republican Candidate](https://static.files.bbci.co.uk/elections/images/us2024/candidates/donald-trump-mobile.png)\\\\n\\\\nKamala Harris of the Democrat party has 75,012,178 votes (48.3%)\\\\n\\\\nDonald Trump of the Republican party has 77,302,416 votes (49.8%) [...] ![US Election 2024](https://static.files.bbci.co.uk/elections/images/us2024/election-logo-cutout-en.svg)\\\\n![Kamala Harris, Democratic Candidate](https://static.files.bbci.co.uk/elections/images/us2024/candidates/kamala-harris-desktop.png)\\\\n\\\\n### TRUMP WINS\", \"score\": 0.76321954}]', name='tavily_search_results_json', id='8f35dfd3-1add-4c97-9a11-c358db8b801a', tool_call_id='6162c993-673d-4b7b-a48f-ad07e5e5d0d7', artifact={'query': 'current US president 2024', 'follow_up_questions': None, 'answer': None, 'images': [], 'results': [{'url': 'https://www.presidency.ucsb.edu/statistics/elections/2024', 'title': '2024 | The American Presidency Project', 'content': '|  |  |  |  |  |  |  |  |  |\\n| --- | --- | --- | --- | --- | --- | --- | --- | --- |\\n| **Party** | | **Nominees** | | **Electoral Vote** | | **Popular Vote** | | |\\n| **Presidential** | **Vice Presidential** |\\n| *Democratic* |  | Kamala Harris | Tim Walz | 226 | 42% | 75,019,230 | 48.34% |\\n| *Republican* |  | Donald J. Trump | J.D. Vance | 312 | 58% | 77,303,568 | 49.81% |\\n| *Various* |  | Others | | 0 | 0 % | 2,878,359 | 1.85% |\\n| *Last update: 12/31/2024* | | | | | | | | | [...] | |  |  |  |  |  |  |  |  |  | | --- | --- | --- | --- | --- | --- | --- | --- | --- | | **Party** | | **Nominees** | | **Electoral Vote** | | **Popular Vote** | | | | **Presidential** | **Vice Presidential** | | *Democratic* |  | Kamala Harris | Tim Walz | 226 | 42% | 75,019,230 | 48.34% | | *Republican* |  | Donald J. Trump | J.D. Vance | 312 | 58% | 77,303,568 | 49.81% | | *Various* |  | Others | | 0 | 0 % | 2,878,359 | 1.85% | | *Last update: 12/31/2024* | | | | | | | | | |  | | | | | | | | [...] ![Trump-Vance 2024](https://www.presidency.ucsb.edu/sites/default/files/books/presidential-documents-archive-collections-presidential-campaigns-debates-and-endorsements/2024-presidential-election-documents/trump_vance_2024.jpg)\\n![Kamala Harris](https://www.presidency.ucsb.edu/sites/default/files/election-maps/2024/137a.jpg)\\n![Donald Trump](https://www.presidency.ucsb.edu/sites/default/files/people/donald-trump.jpg)\\n\\n*Last update: 12/31/2024*', 'score': 0.854509, 'raw_content': None}, {'url': 'https://en.wikipedia.org/wiki/2024_United_States_presidential_election', 'title': '2024 United States presidential election - Wikipedia', 'content': \"Presidential elections were held in the United States on November 5, 2024. The Republican Party's ticket—Donald Trump, who was the 45th president of the\", 'score': 0.78413767, 'raw_content': None}, {'url': 'https://www.cnn.com/election/2024', 'title': 'Election 2024: Campaign news, presidential polls and results - CNN', 'content': '![US Vice President Democratic presidential candidate Kamala Harris speaks at Howard University in Washington, DC, on November 6, 2024. Donald Trump won a sweeping victory on November 6, 2024 in the US presidential election, defeating Kamala Harris to complete an astonishing political comeback that sent shock waves around the world. (Photo by SAUL LOEB / AFP) (Photo by SAUL LOEB/AFP via Getty [...] ![LANCASTER, PENNSYLVANIA - OCTOBER 20: Republican presidential nominee, former U.S. President Donald Trump, arrives on stage during a town hall campaign event at the Lancaster County Convention Center on October 20, 2024 in Lancaster, Pennsylvania. Trump is campaigning the entire day in the state of Pennsylvania. Trump and Democratic presidential nominee Vice President Kamala Harris continue to campaign in battleground swing states ahead of the November 5 election.  (Photo by Win McNamee/Getty [...] ![GRAND RAPIDS, MICHIGAN - NOVEMBER 05: Republican presidential nominee, former U.S. President Donald Trump, takes the stage for his last rally of the election year at Van Andel Arena on November 05, 2024 in Grand Rapids, Michigan. Trump campaigned for re-election in the battleground states of North Carolina and Pennsylvania before arriving for his last rally minutes after midnight in Michigan. (Photo by Chip Somodevilla/Getty', 'score': 0.77913743, 'raw_content': None}, {'url': 'https://ballotpedia.org/Presidential_candidates,_2024', 'title': 'Presidential candidates, 2024 - Ballotpedia', 'content': 'Former President Donald Trump (R) won the November 5, 2024, presidential election. Twenty-four candidates appeared on presidential election ballots across the', 'score': 0.7686816, 'raw_content': None}, {'url': 'https://www.bbc.com/news/election/2024/us/results', 'title': 'US Presidential Election Results 2024 - BBC News', 'content': 'This map of the US states was filled in as presidential results were called. It shows huge swathes of the country coloured red for Republicans including much of the south, mid and north west regions. Kamala Harris picked up states in the north east, the west coast, as well as Colorado, New Mexico, Illinois and Minnesota, all coloured in blue. Donald Trump passed the critical threshold of 270 electoral college votes with a projected win in the state of Wisconsin making him the next US president. [...] ![Kamala Harris, Democratic Candidate](https://static.files.bbci.co.uk/elections/images/us2024/candidates/kamala-harris-mobile.png)\\n![Donald Trump, Republican Candidate](https://static.files.bbci.co.uk/elections/images/us2024/candidates/donald-trump-mobile.png)\\n\\nKamala Harris of the Democrat party has 75,012,178 votes (48.3%)\\n\\nDonald Trump of the Republican party has 77,302,416 votes (49.8%) [...] ![US Election 2024](https://static.files.bbci.co.uk/elections/images/us2024/election-logo-cutout-en.svg)\\n![Kamala Harris, Democratic Candidate](https://static.files.bbci.co.uk/elections/images/us2024/candidates/kamala-harris-desktop.png)\\n\\n### TRUMP WINS', 'score': 0.76321954, 'raw_content': None}], 'response_time': 3.7}),\n",
       "  AIMessage(content='Based on the search results, Donald Trump is the current US president.', additional_kwargs={}, response_metadata={'prompt_feedback': {'block_reason': 0, 'safety_ratings': []}, 'finish_reason': 'STOP', 'safety_ratings': []}, id='run--30a7ca08-2d78-4dea-8d98-fbee12b65387-0', usage_metadata={'input_tokens': 3291, 'output_tokens': 15, 'total_tokens': 3306, 'input_token_details': {'cache_read': 0}})]}"
      ]
     },
     "execution_count": 4,
     "metadata": {},
     "output_type": "execute_result"
    }
   ],
   "source": [
    "agent_executor.invoke({\"messages\" : [(\"user\",\"Who is the current US president?\")]})"
   ]
  },
  {
   "cell_type": "markdown",
   "id": "159d3eaa",
   "metadata": {},
   "source": [
    "TypedDict definition with annotated state tracking."
   ]
  },
  {
   "cell_type": "code",
   "execution_count": null,
   "id": "7984032b",
   "metadata": {},
   "outputs": [],
   "source": [
    "import operator\n",
    "from typing import Annotated, List, Tuple\n",
    "from typing_extensions import TypedDict\n",
    "\n",
    "\n",
    "class PlanExecute(TypedDict):\n",
    "    input: str # input query from user\n",
    "    plan: List[str] # the plan which gets initialized once and then updated after every step\n",
    "    past_steps: Annotated[List[Tuple], operator.add] # keep track of both past tasks and answer to mantain context\n",
    "    answers : Annotated[List[str], operator.add] # list containig all giving answered\n",
    "    response : str # final output"
   ]
  },
  {
   "cell_type": "markdown",
   "id": "96ed591b",
   "metadata": {},
   "source": [
    "## Plan and replaner step"
   ]
  },
  {
   "cell_type": "code",
   "execution_count": 6,
   "id": "1992aa73",
   "metadata": {},
   "outputs": [],
   "source": [
    "from pydantic import BaseModel, Field\n",
    "from typing import List\n",
    "\n",
    "\n",
    "class Plan(BaseModel):\n",
    "    \"\"\"Plan to follow in future\"\"\"\n",
    "\n",
    "    steps: List[str] = Field(description=\"different steps to follow, should be in sorted order\")"
   ]
  },
  {
   "cell_type": "code",
   "execution_count": 7,
   "id": "84e0e859",
   "metadata": {},
   "outputs": [],
   "source": [
    "from langchain_core.prompts import ChatPromptTemplate\n",
    "\n",
    "planner_prompt = ChatPromptTemplate.from_messages([\n",
    "    (\n",
    "        \"system\",\n",
    "        \"\"\"For the given objective, come up with a step-by-step plan, even if some steps may be hard to execute. \n",
    "Do NOT respond with an apology or refusal. Make assumptions if needed, but return steps regardless.\"\"\"\n",
    "    ),\n",
    "    (\"placeholder\", \"{messages}\")\n",
    "])\n",
    "planner = planner_prompt | llm.with_structured_output(Plan)"
   ]
  },
  {
   "cell_type": "code",
   "execution_count": 8,
   "id": "c0a8b10d",
   "metadata": {},
   "outputs": [
    {
     "data": {
      "text/plain": [
       "Plan(steps=['Find the current US president.', \"Find the current US president's age.\"])"
      ]
     },
     "execution_count": 8,
     "metadata": {},
     "output_type": "execute_result"
    }
   ],
   "source": [
    "planner.invoke(\n",
    "    {\n",
    "        \"messages\": [\n",
    "            (\"user\", \"Who is the current US president and what is his age?\")\n",
    "        ]\n",
    "    }\n",
    ")"
   ]
  },
  {
   "cell_type": "code",
   "execution_count": 9,
   "id": "06ac26b0",
   "metadata": {},
   "outputs": [],
   "source": [
    "replanner_prompt = ChatPromptTemplate.from_template(\n",
    "    \"\"\"For the given objective, come up with a simple step by step plan. \\\n",
    "This plan should involve individual tasks, that if executed correctly will yield the correct answer. Do not add any superfluous steps. \\\n",
    "Make sure that each step has all the information needed - do not skip steps.\n",
    "\n",
    "Your objective was this:\n",
    "{input}\n",
    "\n",
    "Your original plan was this:\n",
    "{plan}\n",
    "\n",
    "You have currently done the follow steps:\n",
    "{past_steps}\n",
    "\n",
    "Update your plan accordingly. Once you have done every step, return an empty list.\n",
    "\"\"\"\n",
    ")\n",
    "\n",
    "\n",
    "replanner = replanner_prompt | llm.with_structured_output(Plan)\n"
   ]
  },
  {
   "cell_type": "markdown",
   "id": "ed69d804",
   "metadata": {},
   "source": [
    "## Final reponse step"
   ]
  },
  {
   "cell_type": "code",
   "execution_count": 10,
   "id": "f881eb52",
   "metadata": {},
   "outputs": [],
   "source": [
    "class Response(BaseModel):\n",
    "    \"\"\"Response to user.\"\"\"\n",
    "\n",
    "    response: str = Field(description=\"Final answer to the user.\")\n",
    "\n",
    "final_response_prompt = ChatPromptTemplate.from_template(\n",
    "    \"\"\"\n",
    "Your objective was this:\n",
    "{input}\n",
    "\n",
    "Your original plan was this:\n",
    "{plan}\n",
    "\n",
    "You have answered the steps with the following responses:\n",
    "{answers}\n",
    "\n",
    "Using all these information, provide a final answer to the user.\n",
    "\"\"\"\n",
    ")\n",
    "\n",
    "finalizer = final_response_prompt | llm.with_structured_output(Response)"
   ]
  },
  {
   "cell_type": "markdown",
   "id": "a13336e5",
   "metadata": {},
   "source": [
    "## Functions defining the graph's nodes"
   ]
  },
  {
   "cell_type": "code",
   "execution_count": 11,
   "id": "422e767c",
   "metadata": {},
   "outputs": [],
   "source": [
    "from typing import Literal\n",
    "from langgraph.graph import END\n",
    "\n",
    "\n",
    "async def execute_step(state: PlanExecute):\n",
    "    plan = state[\"plan\"]\n",
    "    plan_str = \"\\n\".join(f\"{i+1}. {step}\" for i, step in enumerate(plan))\n",
    "    task = plan[0]\n",
    "    task_formatted = f\"\"\"For the following plan:\n",
    "{plan_str}\\n\\nYou are tasked with executing step {1}, {task}.\n",
    "Please make sure the result is up-to-date as of 2025. Prefer official or reliable sources with publication dates.\"\"\"\n",
    "    agent_response = await agent_executor.ainvoke(\n",
    "        {\"messages\": [(\"user\", task_formatted)]}\n",
    "    )\n",
    "\n",
    "    response = agent_response[\"messages\"][-1].content\n",
    "    return {\n",
    "        \"past_steps\": [(task, response)],\n",
    "        \"answers\": [response]\n",
    "    }\n",
    "\n",
    "\n",
    "async def plan_step(state: PlanExecute):\n",
    "    plan = await planner.ainvoke({\"messages\": [(\"user\", state[\"input\"])]})\n",
    "    return {\"plan\": plan.steps}\n",
    "\n",
    "\n",
    "async def replan_step(state: PlanExecute):\n",
    "    output = await replanner.ainvoke(state)\n",
    "    return {\"plan\": output.steps}\n",
    "\n",
    "\n",
    "async def should_end(state: PlanExecute) -> Literal[\"agent\", \"final_response\"]:\n",
    "    if not state[\"plan\"]:  # Plan exhausted, we're done\n",
    "        return \"final_response\"\n",
    "    else:\n",
    "        return \"agent\"\n",
    "    \n",
    "async def response(state: PlanExecute):\n",
    "    final_answer = await finalizer.ainvoke(state)\n",
    "    return {\"response\" : final_answer.response}\n"
   ]
  },
  {
   "cell_type": "markdown",
   "id": "cdff01fc",
   "metadata": {},
   "source": [
    "## Initiate the graph"
   ]
  },
  {
   "cell_type": "code",
   "execution_count": 12,
   "id": "35da9cb6",
   "metadata": {},
   "outputs": [],
   "source": [
    "from langgraph.graph import StateGraph, START\n",
    "\n",
    "workflow = StateGraph(PlanExecute)\n",
    "\n",
    "# Add the plan node\n",
    "workflow.add_node(\"planner\", plan_step)\n",
    "\n",
    "# Add the execution step\n",
    "workflow.add_node(\"agent\", execute_step)\n",
    "\n",
    "# Add a replan node\n",
    "workflow.add_node(\"replan\", replan_step)\n",
    "\n",
    "workflow.add_node(\"final_response\", response)\n",
    "\n",
    "workflow.add_edge(START, \"planner\")\n",
    "\n",
    "# From plan we go to agent\n",
    "workflow.add_edge(\"planner\", \"agent\")\n",
    "\n",
    "# From agent, we replan\n",
    "workflow.add_edge(\"agent\", \"replan\")\n",
    "\n",
    "workflow.add_conditional_edges(\n",
    "    \"replan\",\n",
    "    # Next, we pass in the function that will determine which node is called next.\n",
    "    should_end\n",
    ")\n",
    "\n",
    "# Finally, we compile it!\n",
    "# This compiles it into a LangChain Runnable,\n",
    "# meaning you can use it as you would any other runnable\n",
    "app = workflow.compile()"
   ]
  },
  {
   "cell_type": "code",
   "execution_count": 13,
   "id": "8ab2191f",
   "metadata": {},
   "outputs": [
    {
     "data": {
      "image/png": "[encoded data removed]",
      "text/plain": [
       "<IPython.core.display.Image object>"
      ]
     },
     "metadata": {},
     "output_type": "display_data"
    }
   ],
   "source": [
    "from IPython.display import Image, display\n",
    "\n",
    "display(Image(app.get_graph(xray=True).draw_mermaid_png()))"
   ]
  },
  {
   "cell_type": "markdown",
   "id": "ff3b3369",
   "metadata": {},
   "source": [
    "## test"
   ]
  },
  {
   "cell_type": "code",
   "execution_count": 14,
   "id": "fe7e0c2d",
   "metadata": {},
   "outputs": [
    {
     "name": "stdout",
     "output_type": "stream",
     "text": [
      "planner {'plan': ['Identify the current US president and UK prime minister.', 'Research the economic policy goals of the US president based on official statements or recent news.', 'Research the economic policy goals of the UK prime minister based on official statements or recent news.', 'Summarize the economic policy goals of the US president and the UK prime minister.']}\n",
      "agent {'past_steps': [('Identify the current US president and UK prime minister.', 'Based on the search results, as of May 2025:\\n\\n*   The US President is Donald Trump.\\n*   The UK Prime Minister is Keir Starmer.')], 'answers': ['Based on the search results, as of May 2025:\\n\\n*   The US President is Donald Trump.\\n*   The UK Prime Minister is Keir Starmer.']}\n",
      "replan {'plan': ['Research the economic policy goals of Donald Trump based on official statements or recent news.', 'Research the economic policy goals of Keir Starmer based on official statements or recent news.', 'Summarize the economic policy goals of Donald Trump and Keir Starmer.']}\n",
      "agent {'past_steps': [('Research the economic policy goals of Donald Trump based on official statements or recent news.', 'Based on the search results, here\\'s a summary of Donald Trump\\'s economic policy goals as of 2025:\\n\\n*   **Tax Cuts:** Further tax cuts for the wealthy, building on the 2017 Tax Cuts and Jobs Act.\\n*   **Trade Policy:** \"America First\" trade policies, including tariffs on imports, particularly from China. The goal is to reduce the trade deficit and encourage domestic manufacturing. Renegotiation of trade deals like NAFTA to favor the US.\\n*   **Deregulation:** Reduce or eliminate regulations related to climate change and environmental protection.\\n*   **Sovereign Wealth Fund:** Establishment of a United States Sovereign Wealth Fund.\\n*   **Reduce Fraud and Waste:** Strengthen financial integrity and oversight of federal disbursements.\\n\\nIt\\'s important to note that \"Project 2025\" is mentioned, which outlines a broader conservative agenda that could influence economic policy.')], 'answers': ['Based on the search results, here\\'s a summary of Donald Trump\\'s economic policy goals as of 2025:\\n\\n*   **Tax Cuts:** Further tax cuts for the wealthy, building on the 2017 Tax Cuts and Jobs Act.\\n*   **Trade Policy:** \"America First\" trade policies, including tariffs on imports, particularly from China. The goal is to reduce the trade deficit and encourage domestic manufacturing. Renegotiation of trade deals like NAFTA to favor the US.\\n*   **Deregulation:** Reduce or eliminate regulations related to climate change and environmental protection.\\n*   **Sovereign Wealth Fund:** Establishment of a United States Sovereign Wealth Fund.\\n*   **Reduce Fraud and Waste:** Strengthen financial integrity and oversight of federal disbursements.\\n\\nIt\\'s important to note that \"Project 2025\" is mentioned, which outlines a broader conservative agenda that could influence economic policy.']}\n",
      "replan {'plan': ['Research the economic policy goals of Keir Starmer based on official statements or recent news.', 'Summarize the economic policy goals of Donald Trump and Keir Starmer.']}\n",
      "agent {'past_steps': [('Research the economic policy goals of Keir Starmer based on official statements or recent news.', 'Based on the search results, Keir Starmer\\'s economic policy goals for 2025 include:\\n\\n*   Achieving economic growth.\\n*   Making the UK government work effectively.\\n*   Delivering measurable progress by 2029, as part of a \"Plan for Change\" with specific targets in areas including housing, healthcare, policing, education, energy, and economic growth.')], 'answers': ['Based on the search results, Keir Starmer\\'s economic policy goals for 2025 include:\\n\\n*   Achieving economic growth.\\n*   Making the UK government work effectively.\\n*   Delivering measurable progress by 2029, as part of a \"Plan for Change\" with specific targets in areas including housing, healthcare, policing, education, energy, and economic growth.']}\n",
      "replan {'plan': ['Summarize the economic policy goals of Donald Trump and Keir Starmer.']}\n",
      "agent {'past_steps': [('Summarize the economic policy goals of Donald Trump and Keir Starmer.', 'Based on the search results, here\\'s a summary of the economic policy goals of Donald Trump and Keir Starmer, as of 2025:\\n\\n**Donald Trump:**\\n\\n*   **\"America First\" Trade Policy:** Aims to reverse the country\\'s economic decline through trade policies. Focuses on increasing the manufacturing sector\\'s share of GDP, real median household income, and decreasing the trade deficit.\\n*   **Tariffs:** Implement tariffs that are projected to raise revenue, which could be used to reduce federal debt. However, these tariffs are also projected to reduce long-run GDP and wages.\\n*   **Investment Policy:** Reduce the negative effects of investment in and by the People\\'s Republic of China through sanctions and restrictions.\\n*   **Sovereign Wealth Fund:** Establish a United States Sovereign Wealth Fund to promote fiscal sustainability and lessen the burden on taxpayers.\\n*   **Protecting Against Fraud:** Strengthen financial integrity, improve efficiency, and enhance oversight of federal disbursements.\\n\\n**Keir Starmer:**\\n\\n*   **Economic Growth:** Achieve higher real household disposable income and GDP per capita, with the aim of making the UK the fastest-growing G7 economy.\\n*   **Infrastructure:** Fast-track planning decisions on major infrastructure projects.\\n*   **NHS Reform:** Reforms aimed at bringing down NHS waiting lists and delivering greater choice for patients.\\n*   **Government Efficiency:** Rewiring the state to achieve government aims, focusing on delivering government priorities.')], 'answers': ['Based on the search results, here\\'s a summary of the economic policy goals of Donald Trump and Keir Starmer, as of 2025:\\n\\n**Donald Trump:**\\n\\n*   **\"America First\" Trade Policy:** Aims to reverse the country\\'s economic decline through trade policies. Focuses on increasing the manufacturing sector\\'s share of GDP, real median household income, and decreasing the trade deficit.\\n*   **Tariffs:** Implement tariffs that are projected to raise revenue, which could be used to reduce federal debt. However, these tariffs are also projected to reduce long-run GDP and wages.\\n*   **Investment Policy:** Reduce the negative effects of investment in and by the People\\'s Republic of China through sanctions and restrictions.\\n*   **Sovereign Wealth Fund:** Establish a United States Sovereign Wealth Fund to promote fiscal sustainability and lessen the burden on taxpayers.\\n*   **Protecting Against Fraud:** Strengthen financial integrity, improve efficiency, and enhance oversight of federal disbursements.\\n\\n**Keir Starmer:**\\n\\n*   **Economic Growth:** Achieve higher real household disposable income and GDP per capita, with the aim of making the UK the fastest-growing G7 economy.\\n*   **Infrastructure:** Fast-track planning decisions on major infrastructure projects.\\n*   **NHS Reform:** Reforms aimed at bringing down NHS waiting lists and delivering greater choice for patients.\\n*   **Government Efficiency:** Rewiring the state to achieve government aims, focusing on delivering government priorities.']}\n",
      "replan {'plan': []}\n",
      "final_response {'response': 'As of May 2025:\\n\\n*   The US President is Donald Trump.\\n*   The UK Prime Minister is Keir Starmer.\\n\\n**Donald Trump\\'s Economic Policy Goals:**\\n\\n*   **\"America First\" Trade Policy:** Aims to reverse the country\\'s economic decline through trade policies. Focuses on increasing the manufacturing sector\\'s share of GDP, real median household income, and decreasing the trade deficit.\\n*   **Tariffs:** Implement tariffs that are projected to raise revenue, which could be used to reduce federal debt. However, these tariffs are also projected to reduce long-run GDP and wages.\\n*   **Investment Policy:** Reduce the negative effects of investment in and by the People\\'s Republic of China through sanctions and restrictions.\\n*   **Sovereign Wealth Fund:** Establish a United States Sovereign Wealth Fund to promote fiscal sustainability and lessen the burden on taxpayers.\\n*   **Protecting Against Fraud:** Strengthen financial integrity, improve efficiency, and enhance oversight of federal disbursements.\\n\\n**Keir Starmer\\'s Economic Policy Goals:**\\n\\n*   **Economic Growth:** Achieve higher real household disposable income and GDP per capita, with the aim of making the UK the fastest-growing G7 economy.\\n*   **Infrastructure:** Fast-track planning decisions on major infrastructure projects.\\n*   **NHS Reform:** Reforms aimed at bringing down NHS waiting lists and delivering greater choice for patients.\\n*   **Government Efficiency:** Rewiring the state to achieve government aims, focusing on delivering government priorities.'}\n"
     ]
    }
   ],
   "source": [
    "config = {\"recursion_limit\": 20}\n",
    "hard_question = \"Find out who the current US president and UK prime minister are. Then summarize each of their economic policy goals based on official statements or recent news.\"\n",
    "inputs = {\"input\": hard_question}\n",
    "async for event in app.astream(inputs, config=config):\n",
    "    for k, v in event.items():\n",
    "        if k != \"__end__\":\n",
    "            print(k, v)"
   ]
  }
 ],
 "metadata": {
  "kernelspec": {
   "display_name": "base",
   "language": "python",
   "name": "python3"
  },
  "language_info": {
   "codemirror_mode": {
    "name": "ipython",
    "version": 3
   },
   "file_extension": ".py",
   "mimetype": "text/x-python",
   "name": "python",
   "nbconvert_exporter": "python",
   "pygments_lexer": "ipython3",
   "version": "3.12.7"
  }
 },
 "nbformat": 4,
 "nbformat_minor": 5
}
