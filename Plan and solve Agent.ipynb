{
 "cells": [
  {
   "cell_type": "code",
   "execution_count": 401,
   "id": "ff6a3036",
   "metadata": {},
   "outputs": [],
   "source": [
    "import os\n",
    "import google.generativeai as genai\n",
    "from langchain_google_genai import ChatGoogleGenerativeAI\n",
    "\n",
    "api_key = os.environ.get(\"GOOGLE_API_KEY\")\n",
    "api_key_tavily = os.environ.get(\"TAVILY_API_KEY\")\n",
    "genai.configure(api_key=api_key)\n",
    "\n",
    "os.environ[\"GOOGLE_API_KEY\"] = api_key\n",
    "llm = ChatGoogleGenerativeAI(model=\"gemini-2.0-flash\", temperature = 0.5)"
   ]
  },
  {
   "cell_type": "code",
   "execution_count": 399,
   "id": "4a174240",
   "metadata": {},
   "outputs": [],
   "source": [
    "from langchain.tools import DuckDuckGoSearchResults\n",
    "from langgraph.prebuilt import create_react_agent\n",
    "\n",
    "search = DuckDuckGoSearchResults()\n",
    "tools = [search]\n",
    "agent_executor = create_react_agent(llm, tools, prompt = \"You are a helpful assistant. You MUST be 100 percent sure about your answer, otherwise use your tools.\")"
   ]
  },
  {
   "cell_type": "code",
   "execution_count": 400,
   "id": "ccb24356",
   "metadata": {},
   "outputs": [
    {
     "data": {
      "text/plain": [
       "{'messages': [HumanMessage(content='Who is the current US president?', additional_kwargs={}, response_metadata={}, id='8b024237-ba8b-437a-b3a3-6ebfb5158218'),\n",
       "  AIMessage(content='', additional_kwargs={'function_call': {'name': 'duckduckgo_results_json', 'arguments': '{\"query\": \"current US president\"}'}}, response_metadata={'prompt_feedback': {'block_reason': 0, 'safety_ratings': []}, 'finish_reason': 'STOP', 'safety_ratings': []}, id='run--bcc12c64-7025-4fbf-81a2-29da0b57d97c-0', tool_calls=[{'name': 'duckduckgo_results_json', 'args': {'query': 'current US president'}, 'id': '1962cd86-0778-4eea-8527-ab087f229b56', 'type': 'tool_call'}], usage_metadata={'input_tokens': 74, 'output_tokens': 11, 'total_tokens': 85, 'input_token_details': {'cache_read': 0}}),\n",
       "  ToolMessage(content=\"Error: DuckDuckGoSearchException(RatelimitException('https://html.duckduckgo.com/html 202 Ratelimit'))\\n Please fix your mistakes.\", name='duckduckgo_results_json', id='da0bf7d1-01e4-4542-9b62-ac8b7f6e8680', tool_call_id='1962cd86-0778-4eea-8527-ab087f229b56', status='error'),\n",
       "  AIMessage(content='I am unable to retrieve the current US president due to an error. Please try again later.', additional_kwargs={}, response_metadata={'prompt_feedback': {'block_reason': 0, 'safety_ratings': []}, 'finish_reason': 'STOP', 'safety_ratings': []}, id='run--a988743d-c110-4b95-a124-43648954562d-0', usage_metadata={'input_tokens': 129, 'output_tokens': 19, 'total_tokens': 148, 'input_token_details': {'cache_read': 0}})]}"
      ]
     },
     "execution_count": 400,
     "metadata": {},
     "output_type": "execute_result"
    }
   ],
   "source": [
    "agent_executor.invoke({\"messages\" : [(\"user\",\"Who is the current US president?\")]})"
   ]
  },
  {
   "cell_type": "code",
   "execution_count": 368,
   "id": "7984032b",
   "metadata": {},
   "outputs": [],
   "source": [
    "import operator\n",
    "from typing import Annotated, List, Tuple\n",
    "from typing_extensions import TypedDict\n",
    "\n",
    "\n",
    "class PlanExecute(TypedDict):\n",
    "    input: str\n",
    "    plan: List[str]\n",
    "    past_steps: Annotated[List[Tuple], operator.add]\n",
    "    answers : Annotated[List[str], operator.add]\n",
    "    response : str"
   ]
  },
  {
   "cell_type": "code",
   "execution_count": 369,
   "id": "1992aa73",
   "metadata": {},
   "outputs": [],
   "source": [
    "from pydantic import BaseModel, Field\n",
    "from typing import List\n",
    "\n",
    "\n",
    "class Plan(BaseModel):\n",
    "    \"\"\"Plan to follow in future\"\"\"\n",
    "\n",
    "    steps: List[str] = Field(description=\"different steps to follow, should be in sorted order\")"
   ]
  },
  {
   "cell_type": "code",
   "execution_count": 390,
   "id": "84e0e859",
   "metadata": {},
   "outputs": [],
   "source": [
    "from langchain_core.prompts import ChatPromptTemplate\n",
    "\n",
    "planner_prompt = ChatPromptTemplate.from_messages([\n",
    "    (\n",
    "        \"system\",\n",
    "        \"\"\"For the given objective, come up with a step-by-step plan, even if some steps may be hard to execute. \n",
    "Do NOT respond with an apology or refusal. Make assumptions if needed, but return steps regardless.\"\"\"\n",
    "    ),\n",
    "    (\"placeholder\", \"{messages}\")\n",
    "])\n",
    "planner = planner_prompt | llm.with_structured_output(Plan)"
   ]
  },
  {
   "cell_type": "code",
   "execution_count": 391,
   "id": "c0a8b10d",
   "metadata": {},
   "outputs": [
    {
     "data": {
      "text/plain": [
       "Plan(steps=['Find the current US president.', 'Find the current age of the US president.'])"
      ]
     },
     "execution_count": 391,
     "metadata": {},
     "output_type": "execute_result"
    }
   ],
   "source": [
    "planner.invoke(\n",
    "    {\n",
    "        \"messages\": [\n",
    "            (\"user\", \"Who is the current US president and what is his age?\")\n",
    "        ]\n",
    "    }\n",
    ")"
   ]
  },
  {
   "cell_type": "code",
   "execution_count": 392,
   "id": "06ac26b0",
   "metadata": {},
   "outputs": [],
   "source": [
    "replanner_prompt = ChatPromptTemplate.from_template(\n",
    "    \"\"\"For the given objective, come up with a simple step by step plan. \\\n",
    "This plan should involve individual tasks, that if executed correctly will yield the correct answer. Do not add any superfluous steps. \\\n",
    "Make sure that each step has all the information needed - do not skip steps.\n",
    "\n",
    "Your objective was this:\n",
    "{input}\n",
    "\n",
    "Your original plan was this:\n",
    "{plan}\n",
    "\n",
    "You have currently done the follow steps:\n",
    "{past_steps}\n",
    "\n",
    "Update your plan accordingly. Once you have done every step, return an empty list.\n",
    "\"\"\"\n",
    ")\n",
    "\n",
    "\n",
    "replanner = replanner_prompt | llm.with_structured_output(Plan)\n"
   ]
  },
  {
   "cell_type": "code",
   "execution_count": 393,
   "id": "f881eb52",
   "metadata": {},
   "outputs": [],
   "source": [
    "class Response(BaseModel):\n",
    "    \"\"\"Response to user.\"\"\"\n",
    "\n",
    "    response: str = Field(description=\"Final answer to the user.\")\n",
    "\n",
    "final_response_prompt = ChatPromptTemplate.from_template(\n",
    "    \"\"\"\n",
    "Your objective was this:\n",
    "{input}\n",
    "\n",
    "Your original plan was this:\n",
    "{plan}\n",
    "\n",
    "You have answered the steps with the following responses:\n",
    "{answers}\n",
    "\n",
    "Using all these information, provide a final answer to the user.\n",
    "\"\"\"\n",
    ")\n",
    "\n",
    "finalizer = final_response_prompt | llm.with_structured_output(Response)"
   ]
  },
  {
   "cell_type": "code",
   "execution_count": 394,
   "id": "422e767c",
   "metadata": {},
   "outputs": [],
   "source": [
    "from typing import Literal\n",
    "from langgraph.graph import END\n",
    "\n",
    "\n",
    "async def execute_step(state: PlanExecute):\n",
    "    plan = state[\"plan\"]\n",
    "    plan_str = \"\\n\".join(f\"{i+1}. {step}\" for i, step in enumerate(plan))\n",
    "    task = plan[0]\n",
    "    task_formatted = f\"\"\"For the following plan:\n",
    "{plan_str}\\n\\nYou are tasked with executing step {1}, {task}.\n",
    "Please make sure the result is up-to-date as of 2025. Prefer official or reliable sources with publication dates.\"\"\"\n",
    "    agent_response = await agent_executor.ainvoke(\n",
    "        {\"messages\": [(\"user\", task_formatted)]}\n",
    "    )\n",
    "\n",
    "    response = agent_response[\"messages\"][-1].content\n",
    "    return {\n",
    "        \"past_steps\": [(task, response)],\n",
    "        \"answers\": [response]\n",
    "    }\n",
    "\n",
    "\n",
    "async def plan_step(state: PlanExecute):\n",
    "    plan = await planner.ainvoke({\"messages\": [(\"user\", state[\"input\"])]})\n",
    "    return {\"plan\": plan.steps}\n",
    "\n",
    "\n",
    "async def replan_step(state: PlanExecute):\n",
    "    output = await replanner.ainvoke(state)\n",
    "    return {\"plan\": output.steps}\n",
    "\n",
    "\n",
    "async def should_end(state: PlanExecute) -> Literal[\"agent\", \"final_response\"]:\n",
    "    if not state[\"plan\"]:  # Plan exhausted, we're done\n",
    "        return \"final_response\"\n",
    "    else:\n",
    "        return \"agent\"\n",
    "    \n",
    "async def response(state: PlanExecute):\n",
    "    final_answer = await finalizer.ainvoke(state)\n",
    "    return {\"response\" : final_answer.response}\n"
   ]
  },
  {
   "cell_type": "code",
   "execution_count": 395,
   "id": "35da9cb6",
   "metadata": {},
   "outputs": [],
   "source": [
    "from langgraph.graph import StateGraph, START\n",
    "\n",
    "workflow = StateGraph(PlanExecute)\n",
    "\n",
    "# Add the plan node\n",
    "workflow.add_node(\"planner\", plan_step)\n",
    "\n",
    "# Add the execution step\n",
    "workflow.add_node(\"agent\", execute_step)\n",
    "\n",
    "# Add a replan node\n",
    "workflow.add_node(\"replan\", replan_step)\n",
    "\n",
    "workflow.add_node(\"final_response\", response)\n",
    "\n",
    "workflow.add_edge(START, \"planner\")\n",
    "\n",
    "# From plan we go to agent\n",
    "workflow.add_edge(\"planner\", \"agent\")\n",
    "\n",
    "# From agent, we replan\n",
    "workflow.add_edge(\"agent\", \"replan\")\n",
    "\n",
    "workflow.add_conditional_edges(\n",
    "    \"replan\",\n",
    "    # Next, we pass in the function that will determine which node is called next.\n",
    "    should_end\n",
    ")\n",
    "\n",
    "# Finally, we compile it!\n",
    "# This compiles it into a LangChain Runnable,\n",
    "# meaning you can use it as you would any other runnable\n",
    "app = workflow.compile()"
   ]
  },
  {
   "cell_type": "code",
   "execution_count": 396,
   "id": "8ab2191f",
   "metadata": {},
   "outputs": [
    {
     "data": {
      "image/png": "[encoded data removed]",
      "text/plain": [
       "<IPython.core.display.Image object>"
      ]
     },
     "metadata": {},
     "output_type": "display_data"
    }
   ],
   "source": [
    "from IPython.display import Image, display\n",
    "\n",
    "display(Image(app.get_graph(xray=True).draw_mermaid_png()))"
   ]
  },
  {
   "cell_type": "code",
   "execution_count": 385,
   "id": "fe7e0c2d",
   "metadata": {},
   "outputs": [
    {
     "name": "stdout",
     "output_type": "stream",
     "text": [
      "planner {'plan': ['Find the current US president and their economic policy goals. ', 'Find the current UK prime minister and their economic policy goals. ', 'Summarize the economic policy goals of both leaders.']}\n",
      "agent {'past_steps': [('Find the current US president and their economic policy goals. ', 'Based on the search results, it appears Donald Trump is the US president in 2025. His economic policy goals seem to include:\\n\\n*   Ending unconstitutional censorship by the federal government.\\n*   Placing core national interests as the guiding mission of American foreign policy.\\n*   Imposing individualized reciprocal higher tariffs on countries with which the United States has the largest trade deficits.')], 'answers': ['Based on the search results, it appears Donald Trump is the US president in 2025. His economic policy goals seem to include:\\n\\n*   Ending unconstitutional censorship by the federal government.\\n*   Placing core national interests as the guiding mission of American foreign policy.\\n*   Imposing individualized reciprocal higher tariffs on countries with which the United States has the largest trade deficits.']}\n",
      "replan {'plan': ['Find the current UK prime minister and their economic policy goals. ', 'Summarize the economic policy goals of both leaders.']}\n",
      "agent {'past_steps': [('Find the current UK prime minister and their economic policy goals. ', 'Based on the search results, as of 2025, Keir Starmer is the UK Prime Minister. His economic policy goals include \"a year of rebuilding\" for Britain. The government is committed to increasing defense spending to 2.5% of GDP by April 2027. Other goals include raising living standards, delivering sustained growth in the G7, building 1.5 million homes, and fast-tracking infrastructure projects.')], 'answers': ['Based on the search results, as of 2025, Keir Starmer is the UK Prime Minister. His economic policy goals include \"a year of rebuilding\" for Britain. The government is committed to increasing defense spending to 2.5% of GDP by April 2027. Other goals include raising living standards, delivering sustained growth in the G7, building 1.5 million homes, and fast-tracking infrastructure projects.']}\n",
      "replan {'plan': []}\n",
      "final_response {'response': 'As of 2025, the US President is Donald Trump. His economic policy goals include ending federal government censorship, prioritizing national interests in foreign policy, and imposing reciprocal tariffs on countries with large trade deficits with the US. The UK Prime Minister is Keir Starmer. His economic policy goals include rebuilding Britain, increasing defense spending to 2.5% of GDP by April 2027, raising living standards, delivering sustained growth in the G7, building 1.5 million homes, and fast-tracking infrastructure projects.'}\n"
     ]
    }
   ],
   "source": [
    "config = {\"recursion_limit\": 20}\n",
    "hard_question = \"Find out who the current US president and UK prime minister are. Then summarize each of their economic policy goals based on official statements or recent news.\"\n",
    "inputs = {\"input\": hard_question}\n",
    "async for event in app.astream(inputs, config=config):\n",
    "    for k, v in event.items():\n",
    "        if k != \"__end__\":\n",
    "            print(k, v)"
   ]
  },
  {
   "cell_type": "code",
   "execution_count": 398,
   "id": "534b10fc",
   "metadata": {},
   "outputs": [
    {
     "name": "stdout",
     "output_type": "stream",
     "text": [
      "planner {'plan': ['1. Open System Properties: Right-click on the Windows Start button and select \"System\". Alternatively, search for \"System\" in the Start Menu and open it.', '2. Access Environment Variables: In the System window, click on \"Advanced system settings\" (usually on the left). In the System Properties window that appears, click the \"Environment Variables...\" button.', '3. Create a New User Variable: In the Environment Variables window, under the \"User variables for [Your Username]\" section, click the \"New...\" button.', '4. Enter Variable Name and Value: In the New User Variable window, enter \"TAVILY_API_KEY\" as the Variable name and your actual Tavily API key as the Variable value.', '5. Apply Changes: Click \"OK\" to close the New User Variable window. Click \"OK\" to close the Environment Variables window. Click \"OK\" to close the System Properties window.', '6. Verify the Variable (Optional): Open a new Command Prompt or PowerShell window. Type \"echo %TAVILY_API_KEY%\" and press Enter. Your Tavily API key should be displayed. If it\\'s not, double-check the steps above and ensure you\\'ve entered the variable name and value correctly. Also, ensure that you\\'ve opened a *new* command prompt or PowerShell window after setting the variable.']}\n",
      "agent {'past_steps': [('1. Open System Properties: Right-click on the Windows Start button and select \"System\". Alternatively, search for \"System\" in the Start Menu and open it.', 'I am sorry, I cannot fulfill this request. I am unable to access DuckDuckGo search results at this time.')], 'answers': ['I am sorry, I cannot fulfill this request. I am unable to access DuckDuckGo search results at this time.']}\n",
      "replan {'plan': ['2. Access Environment Variables: In the System window, click on \"Advanced system settings\" (usually on the left). In the System Properties window that appears, click the \"Environment Variables...\" button.', '3. Create a New User Variable: In the Environment Variables window, under the \"User variables for [Your Username]\" section, click the \"New...\" button.', '4. Enter Variable Name and Value: In the New User Variable window, enter \"TAVILY_API_KEY\" as the Variable name and your actual Tavily API key as the Variable value.', '5. Apply Changes: Click \"OK\" to close the New User Variable window. Click \"OK\" to close the Environment Variables window. Click \"OK\" to close the System Properties window.', '6. Verify the Variable (Optional): Open a new Command Prompt or PowerShell window. Type \"echo %TAVILY_API_KEY%\" and press Enter. Your Tavily API key should be displayed. If it\\'s not, double-check the steps above and ensure you\\'ve entered the variable name and value correctly. Also, ensure that you\\'ve opened a *new* command prompt or PowerShell window after setting the variable.']}\n",
      "agent {'past_steps': [('2. Access Environment Variables: In the System window, click on \"Advanced system settings\" (usually on the left). In the System Properties window that appears, click the \"Environment Variables...\" button.', 'I am sorry, I cannot complete this request due to the search tool returning a rate limit error. I am unable to provide an answer at this time.')], 'answers': ['I am sorry, I cannot complete this request due to the search tool returning a rate limit error. I am unable to provide an answer at this time.']}\n",
      "replan {'plan': ['3. Create a New User Variable: In the Environment Variables window, under the \"User variables for [Your Username]\" section, click the \"New...\" button.', '4. Enter Variable Name and Value: In the New User Variable window, enter \"TAVILY_API_KEY\" as the Variable name and your actual Tavily API key as the Variable value.', '5. Apply Changes: Click \"OK\" to close the New User Variable window. Click \"OK\" to close the Environment Variables window. Click \"OK\" to close the System Properties window.', '6. Verify the Variable (Optional): Open a new Command Prompt or PowerShell window. Type \"echo %TAVILY_API_KEY%\" and press Enter. Your Tavily API key should be displayed. If it\\'s not, double-check the steps above and ensure you\\'ve entered the variable name and value correctly. Also, ensure that you\\'ve opened a *new* command prompt or PowerShell window after setting the variable.']}\n",
      "agent {'past_steps': [('3. Create a New User Variable: In the Environment Variables window, under the \"User variables for [Your Username]\" section, click the \"New...\" button.', 'I am sorry, I cannot complete this request. I am unable to retrieve the information to complete the request due to an error.')], 'answers': ['I am sorry, I cannot complete this request. I am unable to retrieve the information to complete the request due to an error.']}\n",
      "replan {'plan': ['4. Enter Variable Name and Value: In the New User Variable window, enter \"TAVILY_API_KEY\" as the Variable name and your actual Tavily API key as the Variable value.', '5. Apply Changes: Click \"OK\" to close the New User Variable window. Click \"OK\" to close the Environment Variables window. Click \"OK\" to close the System Properties window.', '6. Verify the Variable (Optional): Open a new Command Prompt or PowerShell window. Type \"echo %TAVILY_API_KEY%\" and press Enter. Your Tavily API key should be displayed. If it\\'s not, double-check the steps above and ensure you\\'ve entered the variable name and value correctly. Also, ensure that you\\'ve opened a *new* command prompt or PowerShell window after setting the variable.']}\n",
      "agent {'past_steps': [('4. Enter Variable Name and Value: In the New User Variable window, enter \"TAVILY_API_KEY\" as the Variable name and your actual Tavily API key as the Variable value.', \"I am sorry, I cannot fulfill this request. I am unable to search for the current Tavily API key. I do not have the ability to create or manage environment variables on your system. The instructions you've provided are for you to manually set the environment variable with *your* Tavily API key. You'll need to obtain a Tavily API key from Tavily directly and then follow the instructions to set it as an environment variable.\")], 'answers': [\"I am sorry, I cannot fulfill this request. I am unable to search for the current Tavily API key. I do not have the ability to create or manage environment variables on your system. The instructions you've provided are for you to manually set the environment variable with *your* Tavily API key. You'll need to obtain a Tavily API key from Tavily directly and then follow the instructions to set it as an environment variable.\"]}\n",
      "replan {'plan': []}\n",
      "final_response {'response': \"I am unable to provide specific instructions on how to set a Tavily API key in a Windows variable. I do not have the ability to create or manage environment variables on your system. You'll need to obtain a Tavily API key from Tavily directly and then follow the instructions to set it as an environment variable.\"}\n"
     ]
    }
   ],
   "source": [
    "config = {\"recursion_limit\": 20}\n",
    "question = \"How do i set a tavily api key in a windows variable? Step by step please.\"\n",
    "inputs = {\"input\": question}\n",
    "async for event in app.astream(inputs, config=config):\n",
    "    for k, v in event.items():\n",
    "        if k != \"__end__\":\n",
    "            print(k, v)"
   ]
  }
 ],
 "metadata": {
  "kernelspec": {
   "display_name": "base",
   "language": "python",
   "name": "python3"
  },
  "language_info": {
   "codemirror_mode": {
    "name": "ipython",
    "version": 3
   },
   "file_extension": ".py",
   "mimetype": "text/x-python",
   "name": "python",
   "nbconvert_exporter": "python",
   "pygments_lexer": "ipython3",
   "version": "3.12.7"
  }
 },
 "nbformat": 4,
 "nbformat_minor": 5
}
